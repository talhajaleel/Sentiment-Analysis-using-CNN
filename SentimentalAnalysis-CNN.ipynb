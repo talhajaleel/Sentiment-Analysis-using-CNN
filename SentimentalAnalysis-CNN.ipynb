{
 "cells": [
  {
   "cell_type": "code",
   "execution_count": 1,
   "id": "level-exclusion",
   "metadata": {
    "_cell_guid": "b1076dfc-b9ad-4769-8c92-a6c4dae69d19",
    "_uuid": "8f2839f25d086af736a60e9eeb907d3b93b6e0e5",
    "execution": {
     "iopub.execute_input": "2022-01-24T19:16:17.888658Z",
     "iopub.status.busy": "2022-01-24T19:16:17.887959Z",
     "iopub.status.idle": "2022-01-24T19:16:23.950604Z",
     "shell.execute_reply": "2022-01-24T19:16:23.949670Z",
     "shell.execute_reply.started": "2022-01-24T18:38:53.621254Z"
    },
    "papermill": {
     "duration": 6.110496,
     "end_time": "2022-01-24T19:16:23.950764",
     "exception": false,
     "start_time": "2022-01-24T19:16:17.840268",
     "status": "completed"
    },
    "tags": []
   },
   "outputs": [],
   "source": [
    "from __future__ import division, print_function\n",
    "from gensim import models\n",
    "from keras.callbacks import ModelCheckpoint\n",
    "from keras.layers import Dense, Dropout, Reshape, Flatten, concatenate, Input, Conv1D, GlobalMaxPooling1D, Embedding\n",
    "from keras.models import Sequential\n",
    "from keras.preprocessing.text import Tokenizer\n",
    "from keras.preprocessing.sequence import pad_sequences\n",
    "from keras.models import Model\n",
    "from sklearn.model_selection import train_test_split\n",
    "import numpy as np\n",
    "import pandas as pd\n",
    "import os\n",
    "import collections\n",
    "import nltk\n",
    "import re\n",
    "import string\n",
    "import gensim\n",
    "from gensim.models import Word2Vec\n",
    "from nltk.tokenize import sent_tokenize, word_tokenize\n",
    "from gensim.models import KeyedVectors\n",
    "\n",
    "import warnings\n",
    "  \n",
    "warnings.filterwarnings(action = 'ignore')"
   ]
  },
  {
   "cell_type": "code",
   "execution_count": 2,
   "id": "tight-royalty",
   "metadata": {
    "execution": {
     "iopub.execute_input": "2022-01-24T19:16:24.022964Z",
     "iopub.status.busy": "2022-01-24T19:16:24.022335Z",
     "iopub.status.idle": "2022-01-24T19:16:29.642243Z",
     "shell.execute_reply": "2022-01-24T19:16:29.641774Z",
     "shell.execute_reply.started": "2022-01-24T18:38:53.632713Z"
    },
    "papermill": {
     "duration": 5.657588,
     "end_time": "2022-01-24T19:16:29.642376",
     "exception": false,
     "start_time": "2022-01-24T19:16:23.984788",
     "status": "completed"
    },
    "tags": []
   },
   "outputs": [],
   "source": [
    "data = pd.read_csv('../input/training1600000processednoemoticoncsv/training.1600000.processed.noemoticon.csv', encoding='ISO-8859-1')"
   ]
  },
  {
   "cell_type": "code",
   "execution_count": 3,
   "id": "happy-enlargement",
   "metadata": {
    "execution": {
     "iopub.execute_input": "2022-01-24T19:16:29.721353Z",
     "iopub.status.busy": "2022-01-24T19:16:29.720680Z",
     "iopub.status.idle": "2022-01-24T19:16:30.063038Z",
     "shell.execute_reply": "2022-01-24T19:16:30.062345Z",
     "shell.execute_reply.started": "2022-01-24T18:38:57.513617Z"
    },
    "papermill": {
     "duration": 0.386784,
     "end_time": "2022-01-24T19:16:30.063176",
     "exception": false,
     "start_time": "2022-01-24T19:16:29.676392",
     "status": "completed"
    },
    "tags": []
   },
   "outputs": [],
   "source": [
    "data.columns = ['Label', 'ids','date','flag','user','Text']\n",
    "data['Label'][data['Label']==4]=1\n",
    "del data['ids']\n",
    "del data['date']\n",
    "del data['flag']\n",
    "del data['user']\n",
    "\n",
    "#data.drop('ids',axis=1)\n",
    "#data.drop('date',axis=1)\n",
    "#data.drop('flag',axis=1)\n",
    "#data.drop('user',axis=1)"
   ]
  },
  {
   "cell_type": "code",
   "execution_count": 4,
   "id": "abroad-laser",
   "metadata": {
    "execution": {
     "iopub.execute_input": "2022-01-24T19:16:30.140448Z",
     "iopub.status.busy": "2022-01-24T19:16:30.139664Z",
     "iopub.status.idle": "2022-01-24T19:16:30.147495Z",
     "shell.execute_reply": "2022-01-24T19:16:30.147941Z",
     "shell.execute_reply.started": "2022-01-24T18:38:57.874031Z"
    },
    "papermill": {
     "duration": 0.051344,
     "end_time": "2022-01-24T19:16:30.148079",
     "exception": false,
     "start_time": "2022-01-24T19:16:30.096735",
     "status": "completed"
    },
    "tags": []
   },
   "outputs": [
    {
     "data": {
      "text/html": [
       "<div>\n",
       "<style scoped>\n",
       "    .dataframe tbody tr th:only-of-type {\n",
       "        vertical-align: middle;\n",
       "    }\n",
       "\n",
       "    .dataframe tbody tr th {\n",
       "        vertical-align: top;\n",
       "    }\n",
       "\n",
       "    .dataframe thead th {\n",
       "        text-align: right;\n",
       "    }\n",
       "</style>\n",
       "<table border=\"1\" class=\"dataframe\">\n",
       "  <thead>\n",
       "    <tr style=\"text-align: right;\">\n",
       "      <th></th>\n",
       "      <th>Label</th>\n",
       "      <th>Text</th>\n",
       "    </tr>\n",
       "  </thead>\n",
       "  <tbody>\n",
       "    <tr>\n",
       "      <th>0</th>\n",
       "      <td>0</td>\n",
       "      <td>is upset that he can't update his Facebook by ...</td>\n",
       "    </tr>\n",
       "    <tr>\n",
       "      <th>1</th>\n",
       "      <td>0</td>\n",
       "      <td>@Kenichan I dived many times for the ball. Man...</td>\n",
       "    </tr>\n",
       "    <tr>\n",
       "      <th>2</th>\n",
       "      <td>0</td>\n",
       "      <td>my whole body feels itchy and like its on fire</td>\n",
       "    </tr>\n",
       "    <tr>\n",
       "      <th>3</th>\n",
       "      <td>0</td>\n",
       "      <td>@nationwideclass no, it's not behaving at all....</td>\n",
       "    </tr>\n",
       "    <tr>\n",
       "      <th>4</th>\n",
       "      <td>0</td>\n",
       "      <td>@Kwesidei not the whole crew</td>\n",
       "    </tr>\n",
       "  </tbody>\n",
       "</table>\n",
       "</div>"
      ],
      "text/plain": [
       "   Label                                               Text\n",
       "0      0  is upset that he can't update his Facebook by ...\n",
       "1      0  @Kenichan I dived many times for the ball. Man...\n",
       "2      0    my whole body feels itchy and like its on fire \n",
       "3      0  @nationwideclass no, it's not behaving at all....\n",
       "4      0                      @Kwesidei not the whole crew "
      ]
     },
     "execution_count": 4,
     "metadata": {},
     "output_type": "execute_result"
    }
   ],
   "source": [
    "data.head()\n"
   ]
  },
  {
   "cell_type": "code",
   "execution_count": 5,
   "id": "ranking-accessory",
   "metadata": {
    "execution": {
     "iopub.execute_input": "2022-01-24T19:16:30.222463Z",
     "iopub.status.busy": "2022-01-24T19:16:30.221700Z",
     "iopub.status.idle": "2022-01-24T19:16:30.232850Z",
     "shell.execute_reply": "2022-01-24T19:16:30.232400Z",
     "shell.execute_reply.started": "2022-01-24T18:38:57.888398Z"
    },
    "papermill": {
     "duration": 0.049425,
     "end_time": "2022-01-24T19:16:30.232967",
     "exception": false,
     "start_time": "2022-01-24T19:16:30.183542",
     "status": "completed"
    },
    "tags": []
   },
   "outputs": [
    {
     "data": {
      "text/plain": [
       "array([0, 1])"
      ]
     },
     "execution_count": 5,
     "metadata": {},
     "output_type": "execute_result"
    }
   ],
   "source": [
    "data.Label.unique()\n"
   ]
  },
  {
   "cell_type": "code",
   "execution_count": 6,
   "id": "naughty-banner",
   "metadata": {
    "execution": {
     "iopub.execute_input": "2022-01-24T19:16:30.308481Z",
     "iopub.status.busy": "2022-01-24T19:16:30.307606Z",
     "iopub.status.idle": "2022-01-24T19:16:30.310670Z",
     "shell.execute_reply": "2022-01-24T19:16:30.311085Z",
     "shell.execute_reply.started": "2022-01-24T18:38:57.911356Z"
    },
    "papermill": {
     "duration": 0.043552,
     "end_time": "2022-01-24T19:16:30.311218",
     "exception": false,
     "start_time": "2022-01-24T19:16:30.267666",
     "status": "completed"
    },
    "tags": []
   },
   "outputs": [
    {
     "data": {
      "text/plain": [
       "(399999, 2)"
      ]
     },
     "execution_count": 6,
     "metadata": {},
     "output_type": "execute_result"
    }
   ],
   "source": [
    "data = data[:-600000]\n",
    "data=data[600000:]\n",
    "data.shape\n",
    "#(39999,2)\n"
   ]
  },
  {
   "cell_type": "code",
   "execution_count": 7,
   "id": "twenty-layer",
   "metadata": {
    "execution": {
     "iopub.execute_input": "2022-01-24T19:16:30.415901Z",
     "iopub.status.busy": "2022-01-24T19:16:30.401423Z",
     "iopub.status.idle": "2022-01-24T19:16:30.525140Z",
     "shell.execute_reply": "2022-01-24T19:16:30.524616Z",
     "shell.execute_reply.started": "2022-01-24T18:38:57.922279Z"
    },
    "papermill": {
     "duration": 0.179828,
     "end_time": "2022-01-24T19:16:30.525274",
     "exception": false,
     "start_time": "2022-01-24T19:16:30.345446",
     "status": "completed"
    },
    "tags": []
   },
   "outputs": [],
   "source": [
    "pos = []\n",
    "neg = []\n",
    "for l in data.Label:\n",
    "    if l == 0:\n",
    "        pos.append(0)\n",
    "        neg.append(1)\n",
    "    elif l == 1:\n",
    "        pos.append(1)\n",
    "        neg.append(0)"
   ]
  },
  {
   "cell_type": "code",
   "execution_count": 8,
   "id": "individual-gathering",
   "metadata": {
    "execution": {
     "iopub.execute_input": "2022-01-24T19:16:30.599180Z",
     "iopub.status.busy": "2022-01-24T19:16:30.598422Z",
     "iopub.status.idle": "2022-01-24T19:16:30.902573Z",
     "shell.execute_reply": "2022-01-24T19:16:30.902033Z",
     "shell.execute_reply.started": "2022-01-24T18:38:58.096550Z"
    },
    "papermill": {
     "duration": 0.342999,
     "end_time": "2022-01-24T19:16:30.902741",
     "exception": false,
     "start_time": "2022-01-24T19:16:30.559742",
     "status": "completed"
    },
    "tags": []
   },
   "outputs": [],
   "source": [
    "data['Pos']= pos\n",
    "data['Neg']= neg\n",
    "#data_neg = data[data['Label'] == 0]\n",
    "#data_pos = data[data['Label'] == 1]\n",
    "#data['Pos']=data['Label'][:1000]\n",
    "#data['Neg']=data['Label'][:1000]"
   ]
  },
  {
   "cell_type": "code",
   "execution_count": 9,
   "id": "chief-saudi",
   "metadata": {
    "execution": {
     "iopub.execute_input": "2022-01-24T19:16:30.985259Z",
     "iopub.status.busy": "2022-01-24T19:16:30.984576Z",
     "iopub.status.idle": "2022-01-24T19:16:30.987473Z",
     "shell.execute_reply": "2022-01-24T19:16:30.987880Z",
     "shell.execute_reply.started": "2022-01-24T18:38:58.473826Z"
    },
    "papermill": {
     "duration": 0.050367,
     "end_time": "2022-01-24T19:16:30.988016",
     "exception": false,
     "start_time": "2022-01-24T19:16:30.937649",
     "status": "completed"
    },
    "tags": []
   },
   "outputs": [
    {
     "data": {
      "text/html": [
       "<div>\n",
       "<style scoped>\n",
       "    .dataframe tbody tr th:only-of-type {\n",
       "        vertical-align: middle;\n",
       "    }\n",
       "\n",
       "    .dataframe tbody tr th {\n",
       "        vertical-align: top;\n",
       "    }\n",
       "\n",
       "    .dataframe thead th {\n",
       "        text-align: right;\n",
       "    }\n",
       "</style>\n",
       "<table border=\"1\" class=\"dataframe\">\n",
       "  <thead>\n",
       "    <tr style=\"text-align: right;\">\n",
       "      <th></th>\n",
       "      <th>Label</th>\n",
       "      <th>Text</th>\n",
       "      <th>Pos</th>\n",
       "      <th>Neg</th>\n",
       "    </tr>\n",
       "  </thead>\n",
       "  <tbody>\n",
       "    <tr>\n",
       "      <th>600000</th>\n",
       "      <td>0</td>\n",
       "      <td>@kikialakiki me too!  and got socks on</td>\n",
       "      <td>0</td>\n",
       "      <td>1</td>\n",
       "    </tr>\n",
       "    <tr>\n",
       "      <th>600001</th>\n",
       "      <td>0</td>\n",
       "      <td>must stop watching the machinist as i fall asl...</td>\n",
       "      <td>0</td>\n",
       "      <td>1</td>\n",
       "    </tr>\n",
       "    <tr>\n",
       "      <th>600002</th>\n",
       "      <td>0</td>\n",
       "      <td>Proper want to be on LiveLounge one day</td>\n",
       "      <td>0</td>\n",
       "      <td>1</td>\n",
       "    </tr>\n",
       "    <tr>\n",
       "      <th>600003</th>\n",
       "      <td>0</td>\n",
       "      <td>FREE Fourstar jacket courtesy of Spike Jonze! ...</td>\n",
       "      <td>0</td>\n",
       "      <td>1</td>\n",
       "    </tr>\n",
       "    <tr>\n",
       "      <th>600004</th>\n",
       "      <td>0</td>\n",
       "      <td>Ohh boy. Today is going to be interesting. Why...</td>\n",
       "      <td>0</td>\n",
       "      <td>1</td>\n",
       "    </tr>\n",
       "  </tbody>\n",
       "</table>\n",
       "</div>"
      ],
      "text/plain": [
       "        Label                                               Text  Pos  Neg\n",
       "600000      0             @kikialakiki me too!  and got socks on    0    1\n",
       "600001      0  must stop watching the machinist as i fall asl...    0    1\n",
       "600002      0           Proper want to be on LiveLounge one day     0    1\n",
       "600003      0  FREE Fourstar jacket courtesy of Spike Jonze! ...    0    1\n",
       "600004      0  Ohh boy. Today is going to be interesting. Why...    0    1"
      ]
     },
     "execution_count": 9,
     "metadata": {},
     "output_type": "execute_result"
    }
   ],
   "source": [
    "data.head()\n"
   ]
  },
  {
   "cell_type": "code",
   "execution_count": 10,
   "id": "worldwide-integrity",
   "metadata": {
    "execution": {
     "iopub.execute_input": "2022-01-24T19:16:31.064236Z",
     "iopub.status.busy": "2022-01-24T19:16:31.063372Z",
     "iopub.status.idle": "2022-01-24T19:16:32.971183Z",
     "shell.execute_reply": "2022-01-24T19:16:32.970683Z",
     "shell.execute_reply.started": "2022-01-24T18:38:58.490987Z"
    },
    "papermill": {
     "duration": 1.947856,
     "end_time": "2022-01-24T19:16:32.971320",
     "exception": false,
     "start_time": "2022-01-24T19:16:31.023464",
     "status": "completed"
    },
    "tags": []
   },
   "outputs": [],
   "source": [
    "def remove_punct(text):\n",
    "    text_nopunct = ''\n",
    "    text_nopunct = re.sub('['+string.punctuation+']', '', text)\n",
    "    return text_nopunct\n",
    "\n",
    "data['Text_Clean'] = data['Text'].apply(lambda x: remove_punct(x))"
   ]
  },
  {
   "cell_type": "code",
   "execution_count": 11,
   "id": "significant-northern",
   "metadata": {
    "execution": {
     "iopub.execute_input": "2022-01-24T19:16:33.058721Z",
     "iopub.status.busy": "2022-01-24T19:16:33.058047Z",
     "iopub.status.idle": "2022-01-24T19:17:38.551107Z",
     "shell.execute_reply": "2022-01-24T19:17:38.552217Z",
     "shell.execute_reply.started": "2022-01-24T18:39:00.848580Z"
    },
    "papermill": {
     "duration": 65.540505,
     "end_time": "2022-01-24T19:17:38.552463",
     "exception": false,
     "start_time": "2022-01-24T19:16:33.011958",
     "status": "completed"
    },
    "tags": []
   },
   "outputs": [],
   "source": [
    "from nltk import word_tokenize, WordNetLemmatizer\n",
    "tokens = [word_tokenize(sen) for sen in data.Text_Clean]"
   ]
  },
  {
   "cell_type": "code",
   "execution_count": 12,
   "id": "respiratory-january",
   "metadata": {
    "execution": {
     "iopub.execute_input": "2022-01-24T19:17:38.680881Z",
     "iopub.status.busy": "2022-01-24T19:17:38.680105Z",
     "iopub.status.idle": "2022-01-24T19:17:40.027584Z",
     "shell.execute_reply": "2022-01-24T19:17:40.027023Z",
     "shell.execute_reply.started": "2022-01-24T18:40:13.473275Z"
    },
    "papermill": {
     "duration": 1.416775,
     "end_time": "2022-01-24T19:17:40.027724",
     "exception": false,
     "start_time": "2022-01-24T19:17:38.610949",
     "status": "completed"
    },
    "tags": []
   },
   "outputs": [],
   "source": [
    "def lower_token(tokens): \n",
    "    return [w.lower() for w in tokens]    \n",
    "    \n",
    "lower_tokens = [lower_token(token) for token in tokens]"
   ]
  },
  {
   "cell_type": "code",
   "execution_count": 13,
   "id": "intermediate-region",
   "metadata": {
    "execution": {
     "iopub.execute_input": "2022-01-24T19:17:40.109496Z",
     "iopub.status.busy": "2022-01-24T19:17:40.108814Z",
     "iopub.status.idle": "2022-01-24T19:17:40.411299Z",
     "shell.execute_reply": "2022-01-24T19:17:40.410863Z",
     "shell.execute_reply.started": "2022-01-24T18:40:15.674227Z"
    },
    "papermill": {
     "duration": 0.348309,
     "end_time": "2022-01-24T19:17:40.411421",
     "exception": false,
     "start_time": "2022-01-24T19:17:40.063112",
     "status": "completed"
    },
    "tags": []
   },
   "outputs": [
    {
     "name": "stdout",
     "output_type": "stream",
     "text": [
      "[nltk_data] Downloading package stopwords to /usr/share/nltk_data...\n",
      "[nltk_data]   Unzipping corpora/stopwords.zip.\n"
     ]
    }
   ],
   "source": [
    "#from nltk.corpus import stopwords\n",
    "#stoplist = stopwords.words('english')\n",
    "\n",
    "nltk.download(\"stopwords\")\n",
    "stop_words = set(nltk.corpus.stopwords.words('english'))\n",
    "exclude_words = set((\"never\", \"not\",\"nor\"))\n",
    "new_stop_words = stop_words.difference(exclude_words)"
   ]
  },
  {
   "cell_type": "code",
   "execution_count": 14,
   "id": "joint-watershed",
   "metadata": {
    "execution": {
     "iopub.execute_input": "2022-01-24T19:17:40.487495Z",
     "iopub.status.busy": "2022-01-24T19:17:40.485852Z",
     "iopub.status.idle": "2022-01-24T19:17:40.488169Z",
     "shell.execute_reply": "2022-01-24T19:17:40.488598Z",
     "shell.execute_reply.started": "2022-01-24T18:40:15.688359Z"
    },
    "papermill": {
     "duration": 0.041998,
     "end_time": "2022-01-24T19:17:40.488734",
     "exception": false,
     "start_time": "2022-01-24T19:17:40.446736",
     "status": "completed"
    },
    "tags": []
   },
   "outputs": [],
   "source": [
    "def remove_stop_words(tokens): \n",
    "    return [word for word in tokens if word not in new_stop_words]"
   ]
  },
  {
   "cell_type": "code",
   "execution_count": 15,
   "id": "latest-concentrate",
   "metadata": {
    "execution": {
     "iopub.execute_input": "2022-01-24T19:17:40.578785Z",
     "iopub.status.busy": "2022-01-24T19:17:40.577999Z",
     "iopub.status.idle": "2022-01-24T19:17:42.679371Z",
     "shell.execute_reply": "2022-01-24T19:17:42.678731Z",
     "shell.execute_reply.started": "2022-01-24T18:40:15.699955Z"
    },
    "papermill": {
     "duration": 2.156092,
     "end_time": "2022-01-24T19:17:42.679558",
     "exception": false,
     "start_time": "2022-01-24T19:17:40.523466",
     "status": "completed"
    },
    "tags": []
   },
   "outputs": [],
   "source": [
    "filtered_words = [remove_stop_words(sen) for sen in lower_tokens]"
   ]
  },
  {
   "cell_type": "code",
   "execution_count": 16,
   "id": "instrumental-cooper",
   "metadata": {
    "execution": {
     "iopub.execute_input": "2022-01-24T19:17:42.838086Z",
     "iopub.status.busy": "2022-01-24T19:17:42.802202Z",
     "iopub.status.idle": "2022-01-24T19:17:42.941778Z",
     "shell.execute_reply": "2022-01-24T19:17:42.941150Z",
     "shell.execute_reply.started": "2022-01-24T18:40:17.778603Z"
    },
    "papermill": {
     "duration": 0.220143,
     "end_time": "2022-01-24T19:17:42.941930",
     "exception": false,
     "start_time": "2022-01-24T19:17:42.721787",
     "status": "completed"
    },
    "tags": []
   },
   "outputs": [],
   "source": [
    "result = [' '.join(sen) for sen in filtered_words]\n"
   ]
  },
  {
   "cell_type": "code",
   "execution_count": 17,
   "id": "enabling-fabric",
   "metadata": {
    "execution": {
     "iopub.execute_input": "2022-01-24T19:17:43.024850Z",
     "iopub.status.busy": "2022-01-24T19:17:43.023871Z",
     "iopub.status.idle": "2022-01-24T19:17:43.062162Z",
     "shell.execute_reply": "2022-01-24T19:17:43.061643Z",
     "shell.execute_reply.started": "2022-01-24T18:40:17.965115Z"
    },
    "papermill": {
     "duration": 0.081073,
     "end_time": "2022-01-24T19:17:43.062294",
     "exception": false,
     "start_time": "2022-01-24T19:17:42.981221",
     "status": "completed"
    },
    "tags": []
   },
   "outputs": [],
   "source": [
    "data['Text_Final'] = result\n"
   ]
  },
  {
   "cell_type": "code",
   "execution_count": 18,
   "id": "hispanic-journalism",
   "metadata": {
    "execution": {
     "iopub.execute_input": "2022-01-24T19:17:43.154588Z",
     "iopub.status.busy": "2022-01-24T19:17:43.153407Z",
     "iopub.status.idle": "2022-01-24T19:17:43.508815Z",
     "shell.execute_reply": "2022-01-24T19:17:43.508305Z",
     "shell.execute_reply.started": "2022-01-24T18:40:18.016210Z"
    },
    "papermill": {
     "duration": 0.407743,
     "end_time": "2022-01-24T19:17:43.508967",
     "exception": false,
     "start_time": "2022-01-24T19:17:43.101224",
     "status": "completed"
    },
    "tags": []
   },
   "outputs": [],
   "source": [
    "data['tokens'] = filtered_words\n"
   ]
  },
  {
   "cell_type": "code",
   "execution_count": 19,
   "id": "ancient-driving",
   "metadata": {
    "execution": {
     "iopub.execute_input": "2022-01-24T19:17:43.593563Z",
     "iopub.status.busy": "2022-01-24T19:17:43.592620Z",
     "iopub.status.idle": "2022-01-24T19:17:43.732935Z",
     "shell.execute_reply": "2022-01-24T19:17:43.733359Z",
     "shell.execute_reply.started": "2022-01-24T18:40:18.396640Z"
    },
    "papermill": {
     "duration": 0.184774,
     "end_time": "2022-01-24T19:17:43.733571",
     "exception": false,
     "start_time": "2022-01-24T19:17:43.548797",
     "status": "completed"
    },
    "tags": []
   },
   "outputs": [],
   "source": [
    "data = data[['Text_Final', 'tokens', 'Label', 'Pos', 'Neg']]\n"
   ]
  },
  {
   "cell_type": "code",
   "execution_count": 20,
   "id": "liberal-medicine",
   "metadata": {
    "execution": {
     "iopub.execute_input": "2022-01-24T19:17:43.829111Z",
     "iopub.status.busy": "2022-01-24T19:17:43.828299Z",
     "iopub.status.idle": "2022-01-24T19:17:43.831667Z",
     "shell.execute_reply": "2022-01-24T19:17:43.832111Z",
     "shell.execute_reply.started": "2022-01-24T18:40:18.538424Z"
    },
    "papermill": {
     "duration": 0.056395,
     "end_time": "2022-01-24T19:17:43.832248",
     "exception": false,
     "start_time": "2022-01-24T19:17:43.775853",
     "status": "completed"
    },
    "tags": []
   },
   "outputs": [
    {
     "data": {
      "text/html": [
       "<div>\n",
       "<style scoped>\n",
       "    .dataframe tbody tr th:only-of-type {\n",
       "        vertical-align: middle;\n",
       "    }\n",
       "\n",
       "    .dataframe tbody tr th {\n",
       "        vertical-align: top;\n",
       "    }\n",
       "\n",
       "    .dataframe thead th {\n",
       "        text-align: right;\n",
       "    }\n",
       "</style>\n",
       "<table border=\"1\" class=\"dataframe\">\n",
       "  <thead>\n",
       "    <tr style=\"text-align: right;\">\n",
       "      <th></th>\n",
       "      <th>Text_Final</th>\n",
       "      <th>tokens</th>\n",
       "      <th>Label</th>\n",
       "      <th>Pos</th>\n",
       "      <th>Neg</th>\n",
       "    </tr>\n",
       "  </thead>\n",
       "  <tbody>\n",
       "    <tr>\n",
       "      <th>600000</th>\n",
       "      <td>kikialakiki got socks</td>\n",
       "      <td>[kikialakiki, got, socks]</td>\n",
       "      <td>0</td>\n",
       "      <td>0</td>\n",
       "      <td>1</td>\n",
       "    </tr>\n",
       "    <tr>\n",
       "      <th>600001</th>\n",
       "      <td>must stop watching machinist fall asleepcant h...</td>\n",
       "      <td>[must, stop, watching, machinist, fall, asleep...</td>\n",
       "      <td>0</td>\n",
       "      <td>0</td>\n",
       "      <td>1</td>\n",
       "    </tr>\n",
       "    <tr>\n",
       "      <th>600002</th>\n",
       "      <td>proper want livelounge one day</td>\n",
       "      <td>[proper, want, livelounge, one, day]</td>\n",
       "      <td>0</td>\n",
       "      <td>0</td>\n",
       "      <td>1</td>\n",
       "    </tr>\n",
       "    <tr>\n",
       "      <th>600003</th>\n",
       "      <td>free fourstar jacket courtesy spike jonze real...</td>\n",
       "      <td>[free, fourstar, jacket, courtesy, spike, jonz...</td>\n",
       "      <td>0</td>\n",
       "      <td>0</td>\n",
       "      <td>1</td>\n",
       "    </tr>\n",
       "  </tbody>\n",
       "</table>\n",
       "</div>"
      ],
      "text/plain": [
       "                                               Text_Final  \\\n",
       "600000                              kikialakiki got socks   \n",
       "600001  must stop watching machinist fall asleepcant h...   \n",
       "600002                     proper want livelounge one day   \n",
       "600003  free fourstar jacket courtesy spike jonze real...   \n",
       "\n",
       "                                                   tokens  Label  Pos  Neg  \n",
       "600000                          [kikialakiki, got, socks]      0    0    1  \n",
       "600001  [must, stop, watching, machinist, fall, asleep...      0    0    1  \n",
       "600002               [proper, want, livelounge, one, day]      0    0    1  \n",
       "600003  [free, fourstar, jacket, courtesy, spike, jonz...      0    0    1  "
      ]
     },
     "execution_count": 20,
     "metadata": {},
     "output_type": "execute_result"
    }
   ],
   "source": [
    "data[:4]\n"
   ]
  },
  {
   "cell_type": "code",
   "execution_count": 21,
   "id": "associate-sample",
   "metadata": {
    "execution": {
     "iopub.execute_input": "2022-01-24T19:17:43.915338Z",
     "iopub.status.busy": "2022-01-24T19:17:43.914602Z",
     "iopub.status.idle": "2022-01-24T19:17:44.033954Z",
     "shell.execute_reply": "2022-01-24T19:17:44.033289Z",
     "shell.execute_reply.started": "2022-01-24T18:40:18.556449Z"
    },
    "papermill": {
     "duration": 0.163079,
     "end_time": "2022-01-24T19:17:44.034112",
     "exception": false,
     "start_time": "2022-01-24T19:17:43.871033",
     "status": "completed"
    },
    "tags": []
   },
   "outputs": [],
   "source": [
    "data_train, data_test = train_test_split(data, test_size=0.25, random_state=42)\n"
   ]
  },
  {
   "cell_type": "code",
   "execution_count": 22,
   "id": "incorporate-tension",
   "metadata": {
    "execution": {
     "iopub.execute_input": "2022-01-24T19:17:44.190090Z",
     "iopub.status.busy": "2022-01-24T19:17:44.153961Z",
     "iopub.status.idle": "2022-01-24T19:17:45.030348Z",
     "shell.execute_reply": "2022-01-24T19:17:45.030945Z",
     "shell.execute_reply.started": "2022-01-24T18:40:18.703475Z"
    },
    "papermill": {
     "duration": 0.957341,
     "end_time": "2022-01-24T19:17:45.031147",
     "exception": false,
     "start_time": "2022-01-24T19:17:44.073806",
     "status": "completed"
    },
    "tags": []
   },
   "outputs": [
    {
     "name": "stdout",
     "output_type": "stream",
     "text": [
      "2380884 words total, with a vocabulary size of 248986\n",
      "Max sentence length is 51\n"
     ]
    }
   ],
   "source": [
    "all_training_words = [word for tokens in data_train[\"tokens\"] for word in tokens]\n",
    "training_sentence_lengths = [len(tokens) for tokens in data_train[\"tokens\"]]\n",
    "TRAINING_VOCAB = sorted(list(set(all_training_words)))\n",
    "print(\"%s words total, with a vocabulary size of %s\" % (len(all_training_words), len(TRAINING_VOCAB)))\n",
    "print(\"Max sentence length is %s\" % max(training_sentence_lengths))"
   ]
  },
  {
   "cell_type": "code",
   "execution_count": 23,
   "id": "fixed-portugal",
   "metadata": {
    "execution": {
     "iopub.execute_input": "2022-01-24T19:17:45.165488Z",
     "iopub.status.busy": "2022-01-24T19:17:45.145309Z",
     "iopub.status.idle": "2022-01-24T19:17:45.400614Z",
     "shell.execute_reply": "2022-01-24T19:17:45.400168Z",
     "shell.execute_reply.started": "2022-01-24T18:40:19.713211Z"
    },
    "papermill": {
     "duration": 0.331838,
     "end_time": "2022-01-24T19:17:45.400743",
     "exception": false,
     "start_time": "2022-01-24T19:17:45.068905",
     "status": "completed"
    },
    "tags": []
   },
   "outputs": [
    {
     "name": "stdout",
     "output_type": "stream",
     "text": [
      "796350 words total, with a vocabulary size of 110277\n",
      "Max sentence length is 53\n"
     ]
    }
   ],
   "source": [
    "all_test_words = [word for tokens in data_test[\"tokens\"] for word in tokens]\n",
    "test_sentence_lengths = [len(tokens) for tokens in data_test[\"tokens\"]]\n",
    "TEST_VOCAB = sorted(list(set(all_test_words)))\n",
    "print(\"%s words total, with a vocabulary size of %s\" % (len(all_test_words), len(TEST_VOCAB)))\n",
    "print(\"Max sentence length is %s\" % max(test_sentence_lengths))"
   ]
  },
  {
   "cell_type": "code",
   "execution_count": 24,
   "id": "british-butterfly",
   "metadata": {
    "execution": {
     "iopub.execute_input": "2022-01-24T19:17:45.477169Z",
     "iopub.status.busy": "2022-01-24T19:17:45.476559Z",
     "iopub.status.idle": "2022-01-24T19:18:06.005248Z",
     "shell.execute_reply": "2022-01-24T19:18:06.004788Z",
     "shell.execute_reply.started": "2022-01-24T18:40:20.043367Z"
    },
    "papermill": {
     "duration": 20.568473,
     "end_time": "2022-01-24T19:18:06.005379",
     "exception": false,
     "start_time": "2022-01-24T19:17:45.436906",
     "status": "completed"
    },
    "tags": []
   },
   "outputs": [],
   "source": [
    "\n",
    "from nltk.data import find\n",
    "word2vec_sample = str(find('models/word2vec_sample/pruned.word2vec.txt'))\n",
    "models = KeyedVectors.load_word2vec_format(word2vec_sample, binary=False)\n",
    "word2vec=models\n",
    "\n",
    "#word2vec_path = 'GoogleNews-vectors-negative300.bin.gz'\n",
    "#word2vec = KeyedVectors.load_word2vec_format('GoogleNews-vectors-negative300.bin.gz', binary=True)"
   ]
  },
  {
   "cell_type": "code",
   "execution_count": 25,
   "id": "august-parcel",
   "metadata": {
    "execution": {
     "iopub.execute_input": "2022-01-24T19:18:06.204677Z",
     "iopub.status.busy": "2022-01-24T19:18:06.203840Z",
     "iopub.status.idle": "2022-01-24T19:18:06.210938Z",
     "shell.execute_reply": "2022-01-24T19:18:06.210511Z",
     "shell.execute_reply.started": "2022-01-24T18:40:43.960270Z"
    },
    "papermill": {
     "duration": 0.167991,
     "end_time": "2022-01-24T19:18:06.211063",
     "exception": false,
     "start_time": "2022-01-24T19:18:06.043072",
     "status": "completed"
    },
    "tags": []
   },
   "outputs": [],
   "source": [
    "def get_average_word2vec(tokens_list, vector, generate_missing=False, k=300):\n",
    "    if len(tokens_list)<1:\n",
    "        return np.zeros(k)\n",
    "    if generate_missing:\n",
    "        vectorized = [vector[word] if word in vector else np.random.rand(k) for word in tokens_list]\n",
    "    else:\n",
    "        vectorized = [vector[word] if word in vector else np.zeros(k) for word in tokens_list]\n",
    "    length = len(vectorized)\n",
    "    summed = np.sum(vectorized, axis=0)\n",
    "    averaged = np.divide(summed, length)\n",
    "    return averaged\n",
    "\n",
    "def get_word2vec_embeddings(vectors, clean_comments, generate_missing=False):\n",
    "    embeddings = clean_comments['tokens'].apply(lambda x: get_average_word2vec(x, vectors, \n",
    "                                                                                generate_missing=generate_missing))\n",
    "    return list(embeddings)"
   ]
  },
  {
   "cell_type": "code",
   "execution_count": 26,
   "id": "surgical-perfume",
   "metadata": {
    "execution": {
     "iopub.execute_input": "2022-01-24T19:18:06.287748Z",
     "iopub.status.busy": "2022-01-24T19:18:06.286838Z",
     "iopub.status.idle": "2022-01-24T19:18:22.389136Z",
     "shell.execute_reply": "2022-01-24T19:18:22.390344Z",
     "shell.execute_reply.started": "2022-01-24T18:40:44.101516Z"
    },
    "papermill": {
     "duration": 16.143394,
     "end_time": "2022-01-24T19:18:22.390572",
     "exception": false,
     "start_time": "2022-01-24T19:18:06.247178",
     "status": "completed"
    },
    "tags": []
   },
   "outputs": [],
   "source": [
    "training_embeddings = get_word2vec_embeddings(word2vec, data_train, generate_missing=True)\n"
   ]
  },
  {
   "cell_type": "code",
   "execution_count": 27,
   "id": "stylish-dairy",
   "metadata": {
    "execution": {
     "iopub.execute_input": "2022-01-24T19:18:22.523537Z",
     "iopub.status.busy": "2022-01-24T19:18:22.522671Z",
     "iopub.status.idle": "2022-01-24T19:18:22.524896Z",
     "shell.execute_reply": "2022-01-24T19:18:22.524240Z",
     "shell.execute_reply.started": "2022-01-24T18:41:05.671187Z"
    },
    "papermill": {
     "duration": 0.069982,
     "end_time": "2022-01-24T19:18:22.525048",
     "exception": false,
     "start_time": "2022-01-24T19:18:22.455066",
     "status": "completed"
    },
    "tags": []
   },
   "outputs": [],
   "source": [
    "MAX_SEQUENCE_LENGTH = 50\n",
    "EMBEDDING_DIM = 300"
   ]
  },
  {
   "cell_type": "code",
   "execution_count": 28,
   "id": "further-layer",
   "metadata": {
    "execution": {
     "iopub.execute_input": "2022-01-24T19:18:22.666200Z",
     "iopub.status.busy": "2022-01-24T19:18:22.665380Z",
     "iopub.status.idle": "2022-01-24T19:18:31.799083Z",
     "shell.execute_reply": "2022-01-24T19:18:31.799516Z",
     "shell.execute_reply.started": "2022-01-24T18:41:05.681141Z"
    },
    "papermill": {
     "duration": 9.215559,
     "end_time": "2022-01-24T19:18:31.799707",
     "exception": false,
     "start_time": "2022-01-24T19:18:22.584148",
     "status": "completed"
    },
    "tags": []
   },
   "outputs": [
    {
     "name": "stdout",
     "output_type": "stream",
     "text": [
      "Found 248955 unique tokens.\n"
     ]
    }
   ],
   "source": [
    "tokenizer = Tokenizer(num_words=len(TRAINING_VOCAB), lower=True, char_level=False)\n",
    "tokenizer.fit_on_texts(data_train[\"Text_Final\"].tolist())\n",
    "training_sequences = tokenizer.texts_to_sequences(data_train[\"Text_Final\"].tolist())\n",
    "\n",
    "train_word_index = tokenizer.word_index\n",
    "print('Found %s unique tokens.' % len(train_word_index))"
   ]
  },
  {
   "cell_type": "code",
   "execution_count": 29,
   "id": "french-overall",
   "metadata": {
    "execution": {
     "iopub.execute_input": "2022-01-24T19:18:31.882502Z",
     "iopub.status.busy": "2022-01-24T19:18:31.881840Z",
     "iopub.status.idle": "2022-01-24T19:18:31.885073Z",
     "shell.execute_reply": "2022-01-24T19:18:31.885706Z",
     "shell.execute_reply.started": "2022-01-24T18:41:17.578277Z"
    },
    "papermill": {
     "duration": 0.046643,
     "end_time": "2022-01-24T19:18:31.885886",
     "exception": false,
     "start_time": "2022-01-24T19:18:31.839243",
     "status": "completed"
    },
    "tags": []
   },
   "outputs": [
    {
     "name": "stdout",
     "output_type": "stream",
     "text": [
      "248986\n"
     ]
    }
   ],
   "source": [
    "num_words=len(TRAINING_VOCAB)\n",
    "print(num_words)"
   ]
  },
  {
   "cell_type": "code",
   "execution_count": 30,
   "id": "bound-europe",
   "metadata": {
    "execution": {
     "iopub.execute_input": "2022-01-24T19:18:31.988072Z",
     "iopub.status.busy": "2022-01-24T19:18:31.983369Z",
     "iopub.status.idle": "2022-01-24T19:18:34.228621Z",
     "shell.execute_reply": "2022-01-24T19:18:34.227732Z",
     "shell.execute_reply.started": "2022-01-24T18:41:17.587817Z"
    },
    "papermill": {
     "duration": 2.302998,
     "end_time": "2022-01-24T19:18:34.228774",
     "exception": false,
     "start_time": "2022-01-24T19:18:31.925776",
     "status": "completed"
    },
    "tags": []
   },
   "outputs": [],
   "source": [
    "train_cnn_data = pad_sequences(training_sequences, maxlen=MAX_SEQUENCE_LENGTH)\n"
   ]
  },
  {
   "cell_type": "code",
   "execution_count": 31,
   "id": "underlying-breakfast",
   "metadata": {
    "execution": {
     "iopub.execute_input": "2022-01-24T19:18:34.310090Z",
     "iopub.status.busy": "2022-01-24T19:18:34.309261Z",
     "iopub.status.idle": "2022-01-24T19:18:36.206786Z",
     "shell.execute_reply": "2022-01-24T19:18:36.207186Z",
     "shell.execute_reply.started": "2022-01-24T18:41:19.785268Z"
    },
    "papermill": {
     "duration": 1.940765,
     "end_time": "2022-01-24T19:18:36.207345",
     "exception": false,
     "start_time": "2022-01-24T19:18:34.266580",
     "status": "completed"
    },
    "tags": []
   },
   "outputs": [
    {
     "name": "stdout",
     "output_type": "stream",
     "text": [
      "(248956, 300)\n"
     ]
    }
   ],
   "source": [
    "train_embedding_weights = np.zeros((len(train_word_index)+1, EMBEDDING_DIM))\n",
    "for word,index in train_word_index.items():\n",
    "    train_embedding_weights[index,:] = word2vec[word] if word in word2vec else np.random.rand(EMBEDDING_DIM)\n",
    "print(train_embedding_weights.shape)"
   ]
  },
  {
   "cell_type": "code",
   "execution_count": 32,
   "id": "interstate-parking",
   "metadata": {
    "execution": {
     "iopub.execute_input": "2022-01-24T19:18:36.331054Z",
     "iopub.status.busy": "2022-01-24T19:18:36.310311Z",
     "iopub.status.idle": "2022-01-24T19:18:38.996908Z",
     "shell.execute_reply": "2022-01-24T19:18:38.996386Z",
     "shell.execute_reply.started": "2022-01-24T18:41:22.034005Z"
    },
    "papermill": {
     "duration": 2.752558,
     "end_time": "2022-01-24T19:18:38.997047",
     "exception": false,
     "start_time": "2022-01-24T19:18:36.244489",
     "status": "completed"
    },
    "tags": []
   },
   "outputs": [],
   "source": [
    "test_sequences = tokenizer.texts_to_sequences(data_test[\"Text_Final\"].tolist())\n",
    "test_cnn_data = pad_sequences(test_sequences, maxlen=MAX_SEQUENCE_LENGTH)"
   ]
  },
  {
   "cell_type": "code",
   "execution_count": 33,
   "id": "continued-tragedy",
   "metadata": {
    "execution": {
     "iopub.execute_input": "2022-01-24T19:18:39.087476Z",
     "iopub.status.busy": "2022-01-24T19:18:39.086511Z",
     "iopub.status.idle": "2022-01-24T19:18:39.089004Z",
     "shell.execute_reply": "2022-01-24T19:18:39.089478Z",
     "shell.execute_reply.started": "2022-01-24T18:41:25.622515Z"
    },
    "papermill": {
     "duration": 0.054952,
     "end_time": "2022-01-24T19:18:39.089631",
     "exception": false,
     "start_time": "2022-01-24T19:18:39.034679",
     "status": "completed"
    },
    "tags": []
   },
   "outputs": [],
   "source": [
    "from keras import backend as K\n",
    "\n",
    "def recall_m(y_true, y_pred):\n",
    "    true_positives = K.sum(K.round(K.clip(y_true * y_pred, 0, 1)))\n",
    "    possible_positives = K.sum(K.round(K.clip(y_true, 0, 1)))\n",
    "    recall = true_positives / (possible_positives + K.epsilon())\n",
    "    return recall\n",
    "\n",
    "def precision_m(y_true, y_pred):\n",
    "    true_positives = K.sum(K.round(K.clip(y_true * y_pred, 0, 1)))\n",
    "    predicted_positives = K.sum(K.round(K.clip(y_pred, 0, 1)))\n",
    "    precision = true_positives / (predicted_positives + K.epsilon())\n",
    "    return precision\n",
    "\n",
    "def f1_m(y_true, y_pred):\n",
    "    precision = precision_m(y_true, y_pred)\n",
    "    recall = recall_m(y_true, y_pred)\n",
    "    return 2*((precision*recall)/(precision+recall+K.epsilon()))\n"
   ]
  },
  {
   "cell_type": "code",
   "execution_count": 34,
   "id": "broken-globe",
   "metadata": {
    "execution": {
     "iopub.execute_input": "2022-01-24T19:18:39.194074Z",
     "iopub.status.busy": "2022-01-24T19:18:39.193266Z",
     "iopub.status.idle": "2022-01-24T19:18:39.196191Z",
     "shell.execute_reply": "2022-01-24T19:18:39.195772Z",
     "shell.execute_reply.started": "2022-01-24T18:41:25.633797Z"
    },
    "papermill": {
     "duration": 0.064055,
     "end_time": "2022-01-24T19:18:39.196307",
     "exception": false,
     "start_time": "2022-01-24T19:18:39.132252",
     "status": "completed"
    },
    "tags": []
   },
   "outputs": [],
   "source": [
    "def ConvNet(embeddings, max_sequence_length, num_words, embedding_dim, labels_index):\n",
    "    \n",
    "    embedding_layer = Embedding(num_words,\n",
    "                            embedding_dim,\n",
    "                            weights=[embeddings],\n",
    "                            input_length=max_sequence_length,\n",
    "                            trainable=False)\n",
    "    \n",
    "    sequence_input = Input(shape=(max_sequence_length,), dtype='int32')\n",
    "    embedded_sequences = embedding_layer(sequence_input)\n",
    "\n",
    "    convs = []\n",
    "    filter_sizes = [2,3,4,5,6]\n",
    "\n",
    "    for filter_size in filter_sizes:\n",
    "        l_conv = Conv1D(filters=200, kernel_size=filter_size, activation='relu')(embedded_sequences)\n",
    "        l_pool = GlobalMaxPooling1D()(l_conv)\n",
    "        convs.append(l_pool)\n",
    "    l_merge = concatenate(convs, axis=1)\n",
    "\n",
    "    x = Dropout(0.1)(l_merge)  \n",
    "    x = Dense(128, activation='relu')(x)\n",
    "    x = Dropout(0.2)(x)\n",
    "    preds = Dense(labels_index, activation='sigmoid')(x)\n",
    "\n",
    "    model = Model(sequence_input, preds)\n",
    "    model.compile(loss='binary_crossentropy',\n",
    "                  optimizer='adam',\n",
    "                  metrics=['acc'])\n",
    "    model.summary()\n",
    "    return model"
   ]
  },
  {
   "cell_type": "code",
   "execution_count": 35,
   "id": "understood-senegal",
   "metadata": {
    "execution": {
     "iopub.execute_input": "2022-01-24T19:18:39.279944Z",
     "iopub.status.busy": "2022-01-24T19:18:39.279142Z",
     "iopub.status.idle": "2022-01-24T19:18:39.281951Z",
     "shell.execute_reply": "2022-01-24T19:18:39.281554Z",
     "shell.execute_reply.started": "2022-01-24T18:41:25.652437Z"
    },
    "papermill": {
     "duration": 0.043772,
     "end_time": "2022-01-24T19:18:39.282062",
     "exception": false,
     "start_time": "2022-01-24T19:18:39.238290",
     "status": "completed"
    },
    "tags": []
   },
   "outputs": [],
   "source": [
    "label_names = ['Pos', 'Neg']\n"
   ]
  },
  {
   "cell_type": "code",
   "execution_count": 36,
   "id": "passing-stationery",
   "metadata": {
    "execution": {
     "iopub.execute_input": "2022-01-24T19:18:39.362680Z",
     "iopub.status.busy": "2022-01-24T19:18:39.362036Z",
     "iopub.status.idle": "2022-01-24T19:18:39.365807Z",
     "shell.execute_reply": "2022-01-24T19:18:39.365274Z",
     "shell.execute_reply.started": "2022-01-24T18:41:25.665162Z"
    },
    "papermill": {
     "duration": 0.047039,
     "end_time": "2022-01-24T19:18:39.365919",
     "exception": false,
     "start_time": "2022-01-24T19:18:39.318880",
     "status": "completed"
    },
    "tags": []
   },
   "outputs": [],
   "source": [
    "y_train = data_train[label_names].values\n"
   ]
  },
  {
   "cell_type": "code",
   "execution_count": 37,
   "id": "swiss-energy",
   "metadata": {
    "execution": {
     "iopub.execute_input": "2022-01-24T19:18:39.448970Z",
     "iopub.status.busy": "2022-01-24T19:18:39.448139Z",
     "iopub.status.idle": "2022-01-24T19:18:39.450603Z",
     "shell.execute_reply": "2022-01-24T19:18:39.450960Z",
     "shell.execute_reply.started": "2022-01-24T18:41:25.679450Z"
    },
    "papermill": {
     "duration": 0.045595,
     "end_time": "2022-01-24T19:18:39.451093",
     "exception": false,
     "start_time": "2022-01-24T19:18:39.405498",
     "status": "completed"
    },
    "tags": []
   },
   "outputs": [],
   "source": [
    "x_train = train_cnn_data\n",
    "y_tr = y_train"
   ]
  },
  {
   "cell_type": "code",
   "execution_count": 38,
   "id": "studied-knitting",
   "metadata": {
    "execution": {
     "iopub.execute_input": "2022-01-24T19:18:39.530498Z",
     "iopub.status.busy": "2022-01-24T19:18:39.529957Z",
     "iopub.status.idle": "2022-01-24T19:18:42.843858Z",
     "shell.execute_reply": "2022-01-24T19:18:42.843361Z",
     "shell.execute_reply.started": "2022-01-24T18:41:25.692536Z"
    },
    "papermill": {
     "duration": 3.35504,
     "end_time": "2022-01-24T19:18:42.843984",
     "exception": false,
     "start_time": "2022-01-24T19:18:39.488944",
     "status": "completed"
    },
    "tags": []
   },
   "outputs": [
    {
     "name": "stdout",
     "output_type": "stream",
     "text": [
      "Model: \"model\"\n",
      "__________________________________________________________________________________________________\n",
      "Layer (type)                    Output Shape         Param #     Connected to                     \n",
      "==================================================================================================\n",
      "input_1 (InputLayer)            [(None, 50)]         0                                            \n",
      "__________________________________________________________________________________________________\n",
      "embedding (Embedding)           (None, 50, 300)      74686800    input_1[0][0]                    \n",
      "__________________________________________________________________________________________________\n",
      "conv1d (Conv1D)                 (None, 49, 200)      120200      embedding[0][0]                  \n",
      "__________________________________________________________________________________________________\n",
      "conv1d_1 (Conv1D)               (None, 48, 200)      180200      embedding[0][0]                  \n",
      "__________________________________________________________________________________________________\n",
      "conv1d_2 (Conv1D)               (None, 47, 200)      240200      embedding[0][0]                  \n",
      "__________________________________________________________________________________________________\n",
      "conv1d_3 (Conv1D)               (None, 46, 200)      300200      embedding[0][0]                  \n",
      "__________________________________________________________________________________________________\n",
      "conv1d_4 (Conv1D)               (None, 45, 200)      360200      embedding[0][0]                  \n",
      "__________________________________________________________________________________________________\n",
      "global_max_pooling1d (GlobalMax (None, 200)          0           conv1d[0][0]                     \n",
      "__________________________________________________________________________________________________\n",
      "global_max_pooling1d_1 (GlobalM (None, 200)          0           conv1d_1[0][0]                   \n",
      "__________________________________________________________________________________________________\n",
      "global_max_pooling1d_2 (GlobalM (None, 200)          0           conv1d_2[0][0]                   \n",
      "__________________________________________________________________________________________________\n",
      "global_max_pooling1d_3 (GlobalM (None, 200)          0           conv1d_3[0][0]                   \n",
      "__________________________________________________________________________________________________\n",
      "global_max_pooling1d_4 (GlobalM (None, 200)          0           conv1d_4[0][0]                   \n",
      "__________________________________________________________________________________________________\n",
      "concatenate (Concatenate)       (None, 1000)         0           global_max_pooling1d[0][0]       \n",
      "                                                                 global_max_pooling1d_1[0][0]     \n",
      "                                                                 global_max_pooling1d_2[0][0]     \n",
      "                                                                 global_max_pooling1d_3[0][0]     \n",
      "                                                                 global_max_pooling1d_4[0][0]     \n",
      "__________________________________________________________________________________________________\n",
      "dropout (Dropout)               (None, 1000)         0           concatenate[0][0]                \n",
      "__________________________________________________________________________________________________\n",
      "dense (Dense)                   (None, 128)          128128      dropout[0][0]                    \n",
      "__________________________________________________________________________________________________\n",
      "dropout_1 (Dropout)             (None, 128)          0           dense[0][0]                      \n",
      "__________________________________________________________________________________________________\n",
      "dense_1 (Dense)                 (None, 2)            258         dropout_1[0][0]                  \n",
      "==================================================================================================\n",
      "Total params: 76,016,186\n",
      "Trainable params: 1,329,386\n",
      "Non-trainable params: 74,686,800\n",
      "__________________________________________________________________________________________________\n"
     ]
    }
   ],
   "source": [
    "model = ConvNet(train_embedding_weights, MAX_SEQUENCE_LENGTH, len(train_word_index)+1, EMBEDDING_DIM, \n",
    "                len(list(label_names)))"
   ]
  },
  {
   "cell_type": "code",
   "execution_count": 39,
   "id": "attractive-anchor",
   "metadata": {
    "execution": {
     "iopub.execute_input": "2022-01-24T19:18:42.923128Z",
     "iopub.status.busy": "2022-01-24T19:18:42.922584Z",
     "iopub.status.idle": "2022-01-24T19:18:42.926629Z",
     "shell.execute_reply": "2022-01-24T19:18:42.926185Z",
     "shell.execute_reply.started": "2022-01-24T18:41:27.033616Z"
    },
    "papermill": {
     "duration": 0.044703,
     "end_time": "2022-01-24T19:18:42.926753",
     "exception": false,
     "start_time": "2022-01-24T19:18:42.882050",
     "status": "completed"
    },
    "tags": []
   },
   "outputs": [],
   "source": [
    "num_epochs = 8\n",
    "batch_size = 38\n",
    "\n",
    "#num_epochs = 15\n",
    "#batch_size = 25"
   ]
  },
  {
   "cell_type": "code",
   "execution_count": 40,
   "id": "compact-crime",
   "metadata": {
    "execution": {
     "iopub.execute_input": "2022-01-24T19:18:43.006095Z",
     "iopub.status.busy": "2022-01-24T19:18:43.005593Z",
     "iopub.status.idle": "2022-01-24T19:25:39.523930Z",
     "shell.execute_reply": "2022-01-24T19:25:39.520900Z",
     "shell.execute_reply.started": "2022-01-24T18:41:27.040234Z"
    },
    "papermill": {
     "duration": 416.560344,
     "end_time": "2022-01-24T19:25:39.524086",
     "exception": false,
     "start_time": "2022-01-24T19:18:42.963742",
     "status": "completed"
    },
    "tags": []
   },
   "outputs": [
    {
     "name": "stdout",
     "output_type": "stream",
     "text": [
      "Epoch 1/8\n",
      "7106/7106 [==============================] - 56s 7ms/step - loss: 0.5763 - acc: 0.6817 - val_loss: 0.4744 - val_acc: 0.7708\n",
      "Epoch 2/8\n",
      "7106/7106 [==============================] - 51s 7ms/step - loss: 0.4687 - acc: 0.7745 - val_loss: 0.4741 - val_acc: 0.7693\n",
      "Epoch 3/8\n",
      "7106/7106 [==============================] - 51s 7ms/step - loss: 0.4354 - acc: 0.7946 - val_loss: 0.4632 - val_acc: 0.7778\n",
      "Epoch 4/8\n",
      "7106/7106 [==============================] - 51s 7ms/step - loss: 0.3973 - acc: 0.8142 - val_loss: 0.4839 - val_acc: 0.7731\n",
      "Epoch 5/8\n",
      "7106/7106 [==============================] - 51s 7ms/step - loss: 0.3526 - acc: 0.8366 - val_loss: 0.5181 - val_acc: 0.7762\n",
      "Epoch 6/8\n",
      "7106/7106 [==============================] - 51s 7ms/step - loss: 0.3202 - acc: 0.8538 - val_loss: 0.5572 - val_acc: 0.7731\n",
      "Epoch 7/8\n",
      "7106/7106 [==============================] - 52s 7ms/step - loss: 0.2927 - acc: 0.8662 - val_loss: 0.5589 - val_acc: 0.7706\n",
      "Epoch 8/8\n",
      "7106/7106 [==============================] - 52s 7ms/step - loss: 0.2696 - acc: 0.8790 - val_loss: 0.6188 - val_acc: 0.7680\n"
     ]
    }
   ],
   "source": [
    "hist = model.fit(x_train, y_tr, epochs=num_epochs, validation_split=0.1, shuffle=True, batch_size=batch_size)\n"
   ]
  },
  {
   "cell_type": "code",
   "execution_count": 41,
   "id": "random-ukraine",
   "metadata": {
    "execution": {
     "iopub.execute_input": "2022-01-24T19:25:43.731261Z",
     "iopub.status.busy": "2022-01-24T19:25:43.730400Z",
     "iopub.status.idle": "2022-01-24T19:25:46.958807Z",
     "shell.execute_reply": "2022-01-24T19:25:46.958314Z",
     "shell.execute_reply.started": "2022-01-24T18:52:59.773734Z"
    },
    "papermill": {
     "duration": 5.468879,
     "end_time": "2022-01-24T19:25:46.958935",
     "exception": false,
     "start_time": "2022-01-24T19:25:41.490056",
     "status": "completed"
    },
    "tags": []
   },
   "outputs": [
    {
     "name": "stdout",
     "output_type": "stream",
     "text": [
      "98/98 [==============================] - 3s 30ms/step\n"
     ]
    }
   ],
   "source": [
    "predictions = model.predict(test_cnn_data, batch_size=1024, verbose=1)\n",
    "#input=[\"i am sad\"]\n",
    "#[n p]\n",
    "#[0.56 0.9]\n"
   ]
  },
  {
   "cell_type": "code",
   "execution_count": 42,
   "id": "distinguished-scratch",
   "metadata": {
    "execution": {
     "iopub.execute_input": "2022-01-24T19:25:50.919981Z",
     "iopub.status.busy": "2022-01-24T19:25:50.918279Z",
     "iopub.status.idle": "2022-01-24T19:25:50.920707Z",
     "shell.execute_reply": "2022-01-24T19:25:50.921109Z",
     "shell.execute_reply.started": "2022-01-24T18:53:03.607244Z"
    },
    "papermill": {
     "duration": 1.970023,
     "end_time": "2022-01-24T19:25:50.921260",
     "exception": false,
     "start_time": "2022-01-24T19:25:48.951237",
     "status": "completed"
    },
    "tags": []
   },
   "outputs": [],
   "source": [
    "labels = [1, 0]\n"
   ]
  },
  {
   "cell_type": "markdown",
   "id": "stone-florida",
   "metadata": {
    "papermill": {
     "duration": 2.781887,
     "end_time": "2022-01-24T19:25:55.662386",
     "exception": false,
     "start_time": "2022-01-24T19:25:52.880499",
     "status": "completed"
    },
    "tags": []
   },
   "source": []
  },
  {
   "cell_type": "code",
   "execution_count": 43,
   "id": "sapphire-gallery",
   "metadata": {
    "execution": {
     "iopub.execute_input": "2022-01-24T19:25:59.587961Z",
     "iopub.status.busy": "2022-01-24T19:25:59.584518Z",
     "iopub.status.idle": "2022-01-24T19:25:59.885139Z",
     "shell.execute_reply": "2022-01-24T19:25:59.884257Z",
     "shell.execute_reply.started": "2022-01-24T18:53:03.615574Z"
    },
    "papermill": {
     "duration": 2.266375,
     "end_time": "2022-01-24T19:25:59.885294",
     "exception": false,
     "start_time": "2022-01-24T19:25:57.618919",
     "status": "completed"
    },
    "tags": []
   },
   "outputs": [],
   "source": [
    "prediction_labels=[]\n",
    "for p in predictions:\n",
    "    prediction_labels.append(labels[np.argmax(p)])"
   ]
  },
  {
   "cell_type": "code",
   "execution_count": 44,
   "id": "devoted-guarantee",
   "metadata": {
    "execution": {
     "iopub.execute_input": "2022-01-24T19:26:03.839061Z",
     "iopub.status.busy": "2022-01-24T19:26:03.838412Z",
     "iopub.status.idle": "2022-01-24T19:26:03.842668Z",
     "shell.execute_reply": "2022-01-24T19:26:03.843095Z",
     "shell.execute_reply.started": "2022-01-24T18:53:03.970171Z"
    },
    "papermill": {
     "duration": 1.959091,
     "end_time": "2022-01-24T19:26:03.843245",
     "exception": false,
     "start_time": "2022-01-24T19:26:01.884154",
     "status": "completed"
    },
    "tags": []
   },
   "outputs": [
    {
     "name": "stdout",
     "output_type": "stream",
     "text": [
      "[[    0     0     0     0     0     0     0     0     0     0     0     0\n",
      "      0     0     0     0     0     0     0     0     0     0     0     0\n",
      "      0     0     0     0     0     0     0     0     0     0     0     0\n",
      "      0     0     4 19936  6155  1277   287   190     6  1915   108  2572\n",
      "    169   115]\n",
      " [    0     0     0     0     0     0     0     0     0     0     0     0\n",
      "      0     0     0     0     0     0     0     0     0     0     0     0\n",
      "      0     0     0     0     0     0     0     0     0     0     0     0\n",
      "      0     0     0     0     0     0     0     0     0     0     0     0\n",
      "   1693  1466]\n",
      " [    0     0     0     0     0     0     0     0     0     0     0     0\n",
      "      0     0     0     0     0     0     0     0     0     0     0     0\n",
      "      0     0     0     0     0     0     0     0     0     0     0     0\n",
      "      0     0     0     0     0     0     0 65991    55    13    22  7577\n",
      "    996  2067]\n",
      " [    0     0     0     0     0     0     0     0     0     0     0     0\n",
      "      0     0     0     0     0     0     0     0     0     0     0     0\n",
      "      0     0     0     0     0     0     0     0     0     0     0     0\n",
      "      0     0     0     0     0     0     0 14713  8474   164    21   164\n",
      "   1543   352]\n",
      " [    0     0     0     0     0     0     0     0     0     0     0     0\n",
      "      0     0     0     0     0     0     0     0     0     0     0     0\n",
      "      0     0     0     0     0     0     0     0     0     0     0     0\n",
      "      0     0     0     0     0     0     0     0 22109    84    19    90\n",
      "    537    49]\n",
      " [    0     0     0     0     0     0     0     0     0     0     0     0\n",
      "      0     0     0     0     0     0     0     0     0     0     0     0\n",
      "      0     0     0     0     0     0     0     0     0     0     0     0\n",
      "      0     0     0     0   394   733   133   286  2562 17759   217   227\n",
      "   3788    82]\n",
      " [    0     0     0     0     0     0     0     0     0     0     0     0\n",
      "      0     0     0     0     0     0     0     0     0     0     0     0\n",
      "      0     0     0     0     0     0     0     0     0     0     0     0\n",
      "      0     0 28257    18   346   784   190  1094  3280 56923    45   749\n",
      "    572  1613]\n",
      " [    0     0     0     0     0     0     0     0     0     0     0     0\n",
      "      0     0     0     0     0     0     0     0     0     0     0     0\n",
      "      0     0     0     0     0     0     0     0     0     0 97746  3734\n",
      "   7649   243    17   932    39   174   416  1805 13534   303     7   162\n",
      "   1253    18]\n",
      " [    0     0     0     0     0     0     0     0     0     0     0     0\n",
      "      0     0     0     0     0     0     0     0     0     0     0     0\n",
      "      0     0     0     0     0     0     0     0     0     0     0     0\n",
      "      0     0     0     0     0   133  1444    39   392  5298  6777   112\n",
      "    149   126]\n",
      " [    0     0     0     0     0     0     0     0     0     0     0     0\n",
      "      0     0     0     0     0     0     0     0     0     0     0     0\n",
      "      0     0     0     0     0     0     0     0     0     0     0     0\n",
      "      0     0     0     0     0     0     0     0     0     0     8    17\n",
      "   7604  5430]]\n"
     ]
    }
   ],
   "source": [
    "print(test_cnn_data[:10])"
   ]
  },
  {
   "cell_type": "code",
   "execution_count": 45,
   "id": "brilliant-fraction",
   "metadata": {
    "execution": {
     "iopub.execute_input": "2022-01-24T19:26:08.064412Z",
     "iopub.status.busy": "2022-01-24T19:26:08.063600Z",
     "iopub.status.idle": "2022-01-24T19:26:11.491548Z",
     "shell.execute_reply": "2022-01-24T19:26:11.490905Z",
     "shell.execute_reply.started": "2022-01-24T19:00:05.414443Z"
    },
    "papermill": {
     "duration": 5.449667,
     "end_time": "2022-01-24T19:26:11.491717",
     "exception": false,
     "start_time": "2022-01-24T19:26:06.042050",
     "status": "completed"
    },
    "tags": []
   },
   "outputs": [
    {
     "name": "stdout",
     "output_type": "stream",
     "text": [
      "98/98 [==============================] - 3s 29ms/step\n",
      "              precision    recall  f1-score   support\n",
      "\n",
      "           0       0.76      0.78      0.77     50025\n",
      "           1       0.77      0.75      0.76     49975\n",
      "\n",
      "    accuracy                           0.77    100000\n",
      "   macro avg       0.77      0.77      0.77    100000\n",
      "weighted avg       0.77      0.77      0.77    100000\n",
      "\n"
     ]
    }
   ],
   "source": [
    "from sklearn.metrics import classification_report\n",
    "\n",
    "acc=sum(data_test.Label==prediction_labels)/len(prediction_labels)\n",
    "\n",
    "y_pred = model.predict(test_cnn_data, batch_size=1024, verbose=1)\n",
    "y_pred_bool = []\n",
    "for p in y_pred:\n",
    "    y_pred_bool.append(labels[np.argmax(p)])\n",
    "    \n",
    "y_test = data_test['Label']\n",
    "\n",
    "# y_test are actual values\n",
    "# y_pred_bool are predicted values\n",
    "\n",
    "print(classification_report(y_test, y_pred_bool))"
   ]
  },
  {
   "cell_type": "code",
   "execution_count": 46,
   "id": "framed-investment",
   "metadata": {
    "execution": {
     "iopub.execute_input": "2022-01-24T19:26:15.754584Z",
     "iopub.status.busy": "2022-01-24T19:26:15.753932Z",
     "iopub.status.idle": "2022-01-24T19:26:15.757264Z",
     "shell.execute_reply": "2022-01-24T19:26:15.755281Z",
     "shell.execute_reply.started": "2022-01-24T18:53:19.777650Z"
    },
    "papermill": {
     "duration": 2.254742,
     "end_time": "2022-01-24T19:26:15.757460",
     "exception": false,
     "start_time": "2022-01-24T19:26:13.502718",
     "status": "completed"
    },
    "tags": []
   },
   "outputs": [
    {
     "data": {
      "text/plain": [
       "0    50025\n",
       "1    49975\n",
       "Name: Label, dtype: int64"
      ]
     },
     "execution_count": 46,
     "metadata": {},
     "output_type": "execute_result"
    }
   ],
   "source": [
    "data_test.Label.value_counts()"
   ]
  },
  {
   "cell_type": "code",
   "execution_count": 47,
   "id": "incorporate-casting",
   "metadata": {
    "execution": {
     "iopub.execute_input": "2022-01-24T19:26:19.771538Z",
     "iopub.status.busy": "2022-01-24T19:26:19.768891Z",
     "iopub.status.idle": "2022-01-24T19:26:20.683180Z",
     "shell.execute_reply": "2022-01-24T19:26:20.682721Z",
     "shell.execute_reply.started": "2022-01-24T18:53:19.795693Z"
    },
    "papermill": {
     "duration": 2.954853,
     "end_time": "2022-01-24T19:26:20.683311",
     "exception": false,
     "start_time": "2022-01-24T19:26:17.728458",
     "status": "completed"
    },
    "tags": []
   },
   "outputs": [],
   "source": [
    "import joblib\n",
    "import pickle\n",
    "model.save(\"mymodel.h5\")"
   ]
  },
  {
   "cell_type": "code",
   "execution_count": 48,
   "id": "streaming-parade",
   "metadata": {
    "execution": {
     "iopub.execute_input": "2022-01-24T19:26:24.677467Z",
     "iopub.status.busy": "2022-01-24T19:26:24.672204Z",
     "iopub.status.idle": "2022-01-24T19:26:25.854133Z",
     "shell.execute_reply": "2022-01-24T19:26:25.853667Z",
     "shell.execute_reply.started": "2022-01-24T18:53:21.203824Z"
    },
    "papermill": {
     "duration": 3.199216,
     "end_time": "2022-01-24T19:26:25.854273",
     "exception": false,
     "start_time": "2022-01-24T19:26:22.655057",
     "status": "completed"
    },
    "tags": []
   },
   "outputs": [],
   "source": [
    "from keras.models import load_model\n",
    "m=load_model(\"mymodel.h5\")"
   ]
  },
  {
   "cell_type": "code",
   "execution_count": 49,
   "id": "activated-imperial",
   "metadata": {
    "execution": {
     "iopub.execute_input": "2022-01-24T19:26:30.838528Z",
     "iopub.status.busy": "2022-01-24T19:26:30.837707Z",
     "iopub.status.idle": "2022-01-24T19:26:30.951853Z",
     "shell.execute_reply": "2022-01-24T19:26:30.952232Z",
     "shell.execute_reply.started": "2022-01-24T19:15:29.165293Z"
    },
    "papermill": {
     "duration": 2.317398,
     "end_time": "2022-01-24T19:26:30.952385",
     "exception": false,
     "start_time": "2022-01-24T19:26:28.634987",
     "status": "completed"
    },
    "tags": []
   },
   "outputs": [
    {
     "name": "stdout",
     "output_type": "stream",
     "text": [
      "[1]\n",
      "Positive\n"
     ]
    }
   ],
   "source": [
    "pred=[\"i am happy\"]\n",
    "\n",
    "pred_sequences = tokenizer.texts_to_sequences(pred)\n",
    "pred_cnn_data = pad_sequences(pred_sequences, maxlen=MAX_SEQUENCE_LENGTH)\n",
    "\n",
    "pred_res=model.predict(pred_cnn_data)\n",
    "pred_labels=[]\n",
    "for p in pred_res:\n",
    "    #print(p)\n",
    "    pred_labels.append(labels[np.argmax(p)])\n",
    "\n",
    "print(pred_labels)\n",
    "\n",
    "if pred_labels[0]==0:\n",
    "    print('Negative')\n",
    "    \n",
    "if pred_labels[0]==1:\n",
    "    print('Positive')"
   ]
  },
  {
   "cell_type": "markdown",
   "id": "fiscal-purse",
   "metadata": {
    "papermill": {
     "duration": 2.008766,
     "end_time": "2022-01-24T19:26:34.929220",
     "exception": false,
     "start_time": "2022-01-24T19:26:32.920454",
     "status": "completed"
    },
    "tags": []
   },
   "source": [
    "\n"
   ]
  }
 ],
 "metadata": {
  "kernelspec": {
   "display_name": "Python 3",
   "language": "python",
   "name": "python3"
  },
  "language_info": {
   "codemirror_mode": {
    "name": "ipython",
    "version": 3
   },
   "file_extension": ".py",
   "mimetype": "text/x-python",
   "name": "python",
   "nbconvert_exporter": "python",
   "pygments_lexer": "ipython3",
   "version": "3.7.10"
  },
  "papermill": {
   "default_parameters": {},
   "duration": 629.601631,
   "end_time": "2022-01-24T19:26:40.591987",
   "environment_variables": {},
   "exception": null,
   "input_path": "__notebook__.ipynb",
   "output_path": "__notebook__.ipynb",
   "parameters": {},
   "start_time": "2022-01-24T19:16:10.990356",
   "version": "2.3.3"
  }
 },
 "nbformat": 4,
 "nbformat_minor": 5
}
